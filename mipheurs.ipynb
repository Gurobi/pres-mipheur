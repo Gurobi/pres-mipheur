{
 "cells": [
  {
   "cell_type": "markdown",
   "id": "749fb51c-8b3e-4770-a9f7-2beb93b4e807",
   "metadata": {
    "slideshow": {
     "slide_type": "slide"
    },
    "tags": []
   },
   "source": [
    "# Faster MIPs Using Custom Heuristics"
   ]
  },
  {
   "cell_type": "markdown",
   "id": "4450ce59",
   "metadata": {
    "slideshow": {
     "slide_type": "slide"
    }
   },
   "source": [
    "## Most important question"
   ]
  },
  {
   "cell_type": "markdown",
   "id": "66469ab2",
   "metadata": {
    "slideshow": {
     "slide_type": "fragment"
    }
   },
   "source": [
    "- Q: How do you get this presentation?\n",
    "- A: Stay tuned until the end!"
   ]
  },
  {
   "cell_type": "markdown",
   "id": "40c362c7-13ad-4dc5-9ae2-a1d2c3c977d5",
   "metadata": {
    "slideshow": {
     "slide_type": "slide"
    },
    "tags": []
   },
   "source": [
    "## About Heuristics in MIP\n",
    "- Heuristics help make MIP faster than branch-and-cut alone\n",
    "  - Find integer feasible solutions\n",
    "  - Improve incumbent solutions\n",
    "- Heuristics run alongside branch-and-cut\n",
    "  - At beginning of a solve\n",
    "  - After the LP relaxation\n",
    "  - Within the branch-and-cut tree"
   ]
  },
  {
   "cell_type": "markdown",
   "id": "5aea285a-53a3-43b6-a4c2-a7b6622c8db7",
   "metadata": {
    "slideshow": {
     "slide_type": "slide"
    },
    "tags": []
   },
   "source": [
    "## Types of solution heuristics\n",
    "  - Construction: Find a feasible solution\n",
    "  - Improvement: Modify a feasible solution to get a better solution"
   ]
  },
  {
   "cell_type": "markdown",
   "id": "76dd9ca3-c2a2-4e64-8675-709c5a4c6bf6",
   "metadata": {
    "slideshow": {
     "slide_type": "slide"
    },
    "tags": []
   },
   "source": [
    "## Why custom heuristics?\n",
    "- Gurobi provides _multiple_ general-purpose heuristics that are effective for many MIP models, including:\n",
    "  - Construction\n",
    "    - Zero: Try x=0 as a candidate solution (!)\n",
    "    - Zero objective: Set the objective to zero and solve\n",
    "  - Improvement\n",
    "    - RINS: Fix some variables and solve the reduced MIP\n",
    "- However, you may be able to do better for your model by exploiting its specific structure - that's the goal of this presentation"
   ]
  },
  {
   "cell_type": "markdown",
   "id": "8da9197f-f3cd-4eb2-b3d5-a066baa3366a",
   "metadata": {
    "slideshow": {
     "slide_type": "slide"
    },
    "tags": []
   },
   "source": [
    "## Disclaimers\n",
    "- We use the Traveling Salesman Problem (TSP) **for illustration purposes**\n",
    "  - Why TSP? Because it is a rich model that is easy to understand\n",
    "- This is *not* designed to show the fastest method for the TSP\n",
    "  - Special-purpose TSP codes outperform this model\n",
    "  - If you want to solve a TSP, consider a state-of-the-art system like [Concorde TSP Solver](http://www.math.uwaterloo.ca/tsp/concorde.html)"
   ]
  },
  {
   "cell_type": "markdown",
   "id": "71544514-7e77-4f7a-9cb1-fc733638b3f9",
   "metadata": {
    "slideshow": {
     "slide_type": "slide"
    },
    "tags": []
   },
   "source": [
    "## Review of the Symmetric Traveling Salesman Problem\n",
    "- Given:\n",
    "  - A symmetric graph with Nodes and Edges\n",
    "  - A distance value for each edge\n",
    "- Find a tour that\n",
    "  - Visits each city exactly once\n",
    "  - Returns to the starting point\n",
    "  - Minimizes the total distance"
   ]
  },
  {
   "cell_type": "markdown",
   "id": "aaa26f80-60b7-4ed3-86ad-4d3d9eb56e32",
   "metadata": {
    "slideshow": {
     "slide_type": "slide"
    },
    "tags": []
   },
   "source": [
    "Example:\n",
    "  \n",
    "<img src=\"img/tour.png\" width=\"80%\">"
   ]
  },
  {
   "cell_type": "markdown",
   "id": "631b9607-d950-4b8f-9c19-d76f863d9956",
   "metadata": {
    "rise": {
     "height": "80%",
     "width": "80%"
    },
    "slideshow": {
     "slide_type": "slide"
    },
    "tags": []
   },
   "source": [
    "## Standard MIP model for symmetric TSP\n",
    "\n",
    "- Let $d_{ij}$ be the distance between nodes $i$ and $j$\n",
    "- Let binary variable $x_{ij} = 1$ if edge $i,j$ in the tour\n",
    "\n",
    "$$\n",
    "\\begin{align}\n",
    "\\min \\sum_{i,j} d_{ij} x_{ij} \\\\\n",
    "\\sum_{j} x_{ij} & = 2 & \\forall i \\quad (1) \\\\\n",
    "\\sum_{i,j \\in S} x_{ij} & \\le |S|-1 & \\forall S \\subset N, 2 \\le |S| \\le |N|-2 \\quad (2) \\\\\n",
    "x_{ij} & = x_{ji} & \\forall i,j \\quad (3) \n",
    "\\end{align}\n",
    "$$\n",
    "\n",
    "1. Degree constraint: ensures that two edges connect to each node.\n",
    "2. Subtour elimination constraint: there are an exponential number of these, but most are inactive. Typically, add them as needed via a lazy constraint callback that checks whether a solution contains subtours and adds the constraint.\n",
    "3. Symmetry constraints: handled by presolve or model formulation."
   ]
  },
  {
   "cell_type": "markdown",
   "id": "86077452-6f6b-413f-93c7-a27a832c0f65",
   "metadata": {
    "slideshow": {
     "slide_type": "slide"
    },
    "tags": []
   },
   "source": [
    "## Status of MIP nodes\n",
    "- LP infeasible\n",
    "- LP feasible\n",
    "  - Integer feasible\n",
    "      - **Has subtours – needs lazy constraints**\n",
    "      - No subtours – new tour found\n",
    "  - **Fractional values**\n",
    "\n",
    "**Boldface** values can be exploited in heuristics"
   ]
  },
  {
   "cell_type": "markdown",
   "id": "161c2a27-6c6a-4368-8d19-2ad8d84de88d",
   "metadata": {
    "slideshow": {
     "slide_type": "slide"
    },
    "tags": []
   },
   "source": [
    "## MIP Heuristic: Greedy construction\n",
    "\n",
    "Given a path in the graph, add the closest node. Repeat until you visit\n",
    "all nodes, then return to the start to get a tour.\n",
    "\n",
    "<img src=\"img/greedy.png\" width=\"80%\">"
   ]
  },
  {
   "cell_type": "markdown",
   "id": "eb6b0c7f-0362-421a-b7c6-b2201ae8d717",
   "metadata": {
    "slideshow": {
     "slide_type": "slide"
    },
    "tags": []
   },
   "source": [
    "## MIP Heuristic: Subtour patching\n",
    "\n",
    "Join subtours together to get a larger subtour. Repeat until there is\n",
    "just one tour.\n",
    "\n",
    "<img src=\"img/subtours.png\" width=\"80%\">"
   ]
  },
  {
   "cell_type": "markdown",
   "id": "54827259-0322-4c6b-b1c6-ad5859e87c10",
   "metadata": {
    "slideshow": {
     "slide_type": "slide"
    },
    "tags": []
   },
   "source": [
    "## MIP Heuristic: Fix and dive\n",
    "\n",
    "Take variables $x_{ij}$ in the LP relaxation where $x_{ij} = 1$; fix\n",
    "those values and solve the reduced MIP.\n",
    "\n",
    "<img src=\"img/fixed.png\" width=\"80%\">"
   ]
  },
  {
   "cell_type": "markdown",
   "id": "586f3a0c-a131-43e2-9a7a-5d05d444cd7a",
   "metadata": {
    "slideshow": {
     "slide_type": "slide"
    },
    "tags": []
   },
   "source": [
    "## MIP Heuristic: Swap\n",
    "\n",
    "There are many different variations of swap heuristics. Here is\n",
    "a simple one where we swap 2 edges in a tour.\n",
    "\n",
    "<img src=\"img/swap.png\" width=\"80%\">"
   ]
  },
  {
   "cell_type": "markdown",
   "id": "05949ee0-a3be-4946-981f-82150b5f89af",
   "metadata": {
    "slideshow": {
     "slide_type": "slide"
    },
    "tags": []
   },
   "source": [
    "# Model code\n",
    "\n",
    "- This code may seem pedantic since it's designed as a research testbed to try different heuristics\n",
    "- For a production application, you could simplify the code by including the heuristics directly and avoid some advanced (complex) Python programming.\n",
    "\n",
    "**Note** This code is provided for illustration purposes and comes with no warranty or technical support."
   ]
  },
  {
   "cell_type": "markdown",
   "id": "af87eee4-f580-437d-bd9d-3287e59d243a",
   "metadata": {
    "slideshow": {
     "slide_type": "slide"
    },
    "tags": []
   },
   "source": [
    "## Code to create the base model"
   ]
  },
  {
   "cell_type": "code",
   "execution_count": null,
   "id": "0820c76f-20d8-4546-ad0d-e8010d534c80",
   "metadata": {
    "slideshow": {
     "slide_type": "subslide"
    },
    "tags": []
   },
   "outputs": [],
   "source": [
    "import math\n",
    "from itertools import combinations\n",
    "import gurobipy as gp\n",
    "from gurobipy import GRB\n",
    "import random\n",
    "\n",
    "def tspmip(n, dist, timelimit=60):\n",
    "    m = gp.Model()\n",
    "\n",
    "    # Objects to use inside callbacks\n",
    "    m._n = n\n",
    "    m._subtours = []\n",
    "    m._tours = []\n",
    "    m._dist = dict(dist)\n",
    "\n",
    "    # Create variables\n",
    "    vars = m.addVars(dist.keys(), obj=dist, vtype=GRB.BINARY, name='x')\n",
    "\n",
    "    # Create opposite direction (i,j) -> (j,i)\n",
    "    # This isn't a new variable - it's a pointer to the same variable\n",
    "    for i, j in vars.keys():\n",
    "        vars[j, i] = vars[i, j]\n",
    "        m._dist[j, i] = dist[i, j]\n",
    "\n",
    "    # Add degree-2 constraint\n",
    "    m.addConstrs(vars.sum(i, '*') == 2 for i in range(n))\n",
    "\n",
    "    # Set parameter for lazy constraints\n",
    "    m.Params.lazyConstraints = 1\n",
    "    \n",
    "    # Set the relative MIP gap to 0 and the time limit\n",
    "    m.Params.MIPGap = 0\n",
    "    m.Params.TimeLimit = timelimit\n",
    "    \n",
    "    # Set the absolute MIP gap to the smallest nonzero difference in distances\n",
    "    distvals = sorted(dist.values())\n",
    "    m.Params.MIPGapAbs = min(v[1]-v[0] for v in list(zip(distvals[:-1],distvals[1:])) if v[1] != v[0])\n",
    "    \n",
    "    # vars object to use inside callbacks\n",
    "    m._vars = vars\n",
    "    \n",
    "    return m"
   ]
  },
  {
   "cell_type": "markdown",
   "id": "c80f2ca8-af5a-4b5e-b22f-6e3d3c281f45",
   "metadata": {
    "slideshow": {
     "slide_type": "slide"
    }
   },
   "source": [
    "## Subtours function\n",
    "Finds all subtours from an integer solution, sorted from smallest subtour to largest."
   ]
  },
  {
   "cell_type": "code",
   "execution_count": null,
   "id": "02f78b5e-2798-4de1-b364-630827b6f57a",
   "metadata": {
    "slideshow": {
     "slide_type": "subslide"
    }
   },
   "outputs": [],
   "source": [
    "def subtours(vals):\n",
    "    # make a list of edges selected in the solution\n",
    "    edges = gp.tuplelist((i, j) for i, j in vals.keys()\n",
    "                         if vals[i, j] > 0.5)\n",
    "    cycles = []\n",
    "    while edges:\n",
    "        # Trace edges until we find a loop\n",
    "        i,j = edges[0]\n",
    "        thiscycle = [i]\n",
    "        while j != thiscycle[0]:\n",
    "            thiscycle.append(j)\n",
    "            i,j = next((i,j) for i,j in edges.select(j, '*')\n",
    "                       if j != thiscycle[-2])\n",
    "        cycles.append(thiscycle)\n",
    "        for j in thiscycle:\n",
    "            edges.remove((i,j))\n",
    "            edges.remove((j,i))\n",
    "            i = j\n",
    "    return sorted(cycles, key=lambda x: len(x))"
   ]
  },
  {
   "cell_type": "markdown",
   "id": "410af438-a07c-4f1e-a890-6a7e3a525c9a",
   "metadata": {
    "slideshow": {
     "slide_type": "slide"
    }
   },
   "source": [
    "## Tour cost function\n",
    "A helper function to compute the cost of a tour"
   ]
  },
  {
   "cell_type": "code",
   "execution_count": null,
   "id": "fe72c743-8352-4cba-a0cc-c5374f1f39a6",
   "metadata": {
    "slideshow": {
     "slide_type": "subslide"
    }
   },
   "outputs": [],
   "source": [
    "def tourcost(dist, tour):\n",
    "    return sum(dist[tour[k-1],tour[k]] for k in range(len(tour)))"
   ]
  },
  {
   "cell_type": "markdown",
   "id": "a4affc95-8388-47b3-bfb9-c1417aa65192",
   "metadata": {
    "slideshow": {
     "slide_type": "slide"
    }
   },
   "source": [
    "## Callback function\n",
    "There are several parts to the main callback function:\n",
    "1. Checks on integer solutions: if an integer solution is found, it either stores the tour or subtours\n",
    "2. A call to a heuristic function, which we specify later\n",
    "3. If subtours were found, add subtour elimination constraints\n",
    "4. If a tour was generated (like from a heuristic), set that as a candidate solution\n",
    "\n",
    "This function is written as a [closure](https://en.wikipedia.org/wiki/Closure_(computer_programming)): a function that _generates_ the callback. The reason for this is that we want to specify the heuristic function to call inside the callback! The main logic is in the inner function `basecb`; the optional heuristic function is `heurcb`."
   ]
  },
  {
   "cell_type": "code",
   "execution_count": null,
   "id": "6e3e9736-af71-4039-8c65-3bd0bcf47cb5",
   "metadata": {
    "slideshow": {
     "slide_type": "subslide"
    }
   },
   "outputs": [],
   "source": [
    "def tspcb(heurcb=None):\n",
    "    \n",
    "    def basecb(model, where):\n",
    "\n",
    "        # Check MIP solution\n",
    "        if where == GRB.Callback.MIPSOL:\n",
    "\n",
    "            vals = model.cbGetSolution(model._vars)\n",
    "            tours = subtours(vals)\n",
    "            if len(tours) > 1:\n",
    "                # Save the subtours for future use\n",
    "                model._subtours.append(tours)\n",
    "            else:\n",
    "                # Save the tour for future use\n",
    "                model._tours.append(tours[0])\n",
    "\n",
    "                # Record time when first tour is found\n",
    "                try:\n",
    "                    model._firstsoltime\n",
    "                except AttributeError:\n",
    "                    model._firstsoltime = model.cbGet(GRB.Callback.RUNTIME)\n",
    "\n",
    "        # Call inner heuristic callback function, if specified\n",
    "        try:\n",
    "            heurcb(model, where)\n",
    "        except TypeError: # no heuristic callback specified\n",
    "            pass\n",
    "\n",
    "        # Add subtour constraints if there are any subtours\n",
    "        if where == GRB.Callback.MIPSOL:\n",
    "            for tours in model._subtours:\n",
    "                # add a subtour elimination constraint for all but largest subtour\n",
    "                for tour in tours[:-1]:\n",
    "                    model.cbLazy(gp.quicksum(model._vars[i, j]\n",
    "                                             for i, j in combinations(tour, 2) if (i,j) in model._vars)\n",
    "                                 <= len(tour)-1)\n",
    "            # Reset the subtours\n",
    "            model._subtours = []\n",
    "\n",
    "        # Inject a heuristic solution, if there is a saved one\n",
    "        if where == GRB.Callback.MIPNODE:\n",
    "            try:\n",
    "                # There may be multiple tours - find the best one\n",
    "                tour,cost = min(((tour,tourcost(model._dist, tour))\n",
    "                              for tour in model._tours),\n",
    "                          key=lambda x: x[-1])\n",
    "                # Only apply if the tour is an improvement\n",
    "                if cost < model.cbGet(GRB.Callback.MIPNODE_OBJBST):\n",
    "                    # Set all variables to 0.0 - optional but helpful to suppress some warnings\n",
    "                    model.cbSetSolution(model._vars.values(), [0.0]*len(model._vars))\n",
    "                    # Now set variables in tour to 1.0\n",
    "                    model.cbSetSolution([model._vars[tour[k-1],tour[k]] for k in range(len(tour))], [1.0]*len(tour))\n",
    "                    # Use the solution - optional but a slight performance improvement\n",
    "                    model.cbUseSolution()\n",
    "                # Reset the tours\n",
    "                model._tours = []\n",
    "            except ValueError: # tours list was already empty\n",
    "                pass\n",
    "    \n",
    "    return basecb # the generated function"
   ]
  },
  {
   "cell_type": "markdown",
   "id": "e0bad862-2570-4a75-883b-23de03920fa0",
   "metadata": {
    "slideshow": {
     "slide_type": "slide"
    }
   },
   "source": [
    "## Check solution\n",
    "Function to print and plot solution values."
   ]
  },
  {
   "cell_type": "code",
   "execution_count": null,
   "id": "42ea076d-f92b-4cb3-9585-7293e7bd3fef",
   "metadata": {
    "slideshow": {
     "slide_type": "subslide"
    }
   },
   "outputs": [],
   "source": [
    "from bokeh.plotting import figure, show\n",
    "from bokeh.io import output_notebook\n",
    "\n",
    "output_notebook()\n",
    "\n",
    "def checksol(m, plot=True):\n",
    "    print('')\n",
    "    if m.SolCount > 0:\n",
    "        vals = m.getAttr('x', m._vars)\n",
    "        tours = subtours(vals)\n",
    "        \n",
    "        if len(tours) == 1:\n",
    "            if m.Status == GRB.OPTIMAL:\n",
    "                status = \"Optimal TSP tour\"\n",
    "            else:\n",
    "                status = \"Suboptimal TSP tour\"\n",
    "            output = tours[0]\n",
    "        else:\n",
    "            status = \"%i TSP subtours\" % len(tours)\n",
    "            output = tours\n",
    "\n",
    "        print('%s: %s' % (status, str(output)))\n",
    "        print('Cost: %g' % m.objVal)\n",
    "        \n",
    "        if plot:\n",
    "            plotsol(tours, \"%s on %i cities, length=%f\" % (status, n, m.objVal))\n",
    "    else:\n",
    "        print('No solution!')\n",
    "    print('')\n",
    "\n",
    "def plotsol(tours, title=\"\", path=False):\n",
    "    fig = figure(title=title, x_range=[0,100], y_range=[0,100])\n",
    "    x, y = zip(*points)\n",
    "    fig.circle(x, y, size=8)\n",
    "    for tour in tours:\n",
    "        ptseq = [points[k] for k in tour]\n",
    "        if not path:\n",
    "            ptseq.append(ptseq[0])\n",
    "        x, y = zip(*ptseq)\n",
    "        fig.line(x, y)\n",
    "\n",
    "    show(fig)"
   ]
  },
  {
   "cell_type": "markdown",
   "id": "247ffa4c-3f9d-4549-8158-74a94d2d0d23",
   "metadata": {
    "slideshow": {
     "slide_type": "slide"
    }
   },
   "source": [
    "## Generate data\n",
    "We create random points on a plane and compute the Euclidean distance:"
   ]
  },
  {
   "cell_type": "code",
   "execution_count": null,
   "id": "685f42b4-68db-48db-89e7-4fef7a13ed6d",
   "metadata": {
    "slideshow": {
     "slide_type": "subslide"
    }
   },
   "outputs": [],
   "source": [
    "n = 300\n",
    "\n",
    "random.seed(1)\n",
    "points = [(random.randint(0, 100), random.randint(0, 100)) for i in range(n)]\n",
    "\n",
    "# Dictionary of Euclidean distance between each pair of points\n",
    "dist = {(i, j):\n",
    "        math.sqrt(sum((points[i][k]-points[j][k])**2 for k in range(2)))\n",
    "        for i in range(n) for j in range(i)}"
   ]
  },
  {
   "cell_type": "markdown",
   "id": "7e12c732-40e7-48b4-8941-00fc25468bc7",
   "metadata": {
    "slideshow": {
     "slide_type": "slide"
    }
   },
   "source": [
    "## Collect runtimes\n",
    "A dictionary and a function to collect runtimes"
   ]
  },
  {
   "cell_type": "code",
   "execution_count": null,
   "id": "16e12d13-923b-4b86-b2e9-23e9da21b799",
   "metadata": {
    "slideshow": {
     "slide_type": "subslide"
    }
   },
   "outputs": [],
   "source": [
    "runtimes = {'methods': [], 'optimal': [], 'firstsol': []}\n",
    "\n",
    "def addruntimes(runtimes, method, model):\n",
    "    runtimes['methods'].append(method)\n",
    "    runtimes['optimal'].append(model.Runtime)\n",
    "    try:\n",
    "        runtimes['firstsol'].append(model._firstsoltime)\n",
    "    except AttributeError:\n",
    "        runtimes['firstsol'].append(model.Runtime)"
   ]
  },
  {
   "cell_type": "markdown",
   "id": "f6e5d2a9-ae4a-45d7-9d47-bf84283e8bde",
   "metadata": {
    "slideshow": {
     "slide_type": "slide"
    }
   },
   "source": [
    "## Generate model and solve with basic callback\n",
    "Without any customization, the callback function `tspcb` simply finds subtours and adds constraints to prevent them."
   ]
  },
  {
   "cell_type": "code",
   "execution_count": null,
   "id": "8c3f1bab-c276-4b0a-8588-c701f7bb4677",
   "metadata": {
    "slideshow": {
     "slide_type": "subslide"
    }
   },
   "outputs": [],
   "source": [
    "m = tspmip(n, dist)\n",
    "m.optimize(tspcb())\n",
    "checksol(m)\n",
    "addruntimes(runtimes, 'noheur', m)"
   ]
  },
  {
   "cell_type": "markdown",
   "id": "4d9aeb59-f4e4-4a6c-a161-804e55786f0f",
   "metadata": {
    "slideshow": {
     "slide_type": "slide"
    }
   },
   "source": [
    "## Heuristic Code\n",
    "A Python class that computes some standard TSP heuristics:\n",
    "\n",
    "1. Greedy node insertion\n",
    "1. Subtour node patching\n",
    "1. Solution improvement via swapping\n",
    "\n",
    "In both the greedy and patch heuristics, we use Python aggreate [min](https://docs.python.org/3/library/functions.html#min) functions with a key function so that we can obtain the argmin value. The key is specified as a [lambda function](https://docs.python.org/3/reference/expressions.html#lambda) so that we don't need to define a named function."
   ]
  },
  {
   "cell_type": "code",
   "execution_count": null,
   "id": "0b054d7b-d669-4160-80fd-f78707951a6a",
   "metadata": {
    "slideshow": {
     "slide_type": "subslide"
    }
   },
   "outputs": [],
   "source": [
    "class pytsp:\n",
    "    def __init__(self, n, dist, logging=False):\n",
    "        self.n = n\n",
    "        self.dist = dist\n",
    "        self.logging = logging\n",
    "    \n",
    "    # Construct a heuristic tour via greedy insertion\n",
    "    def greedy(self, dist=None, sense=1):\n",
    "        if not dist:\n",
    "            dist = self.dist\n",
    "        unexplored = list(range(n))\n",
    "        tour = []\n",
    "        prev = 0\n",
    "        while unexplored:\n",
    "            best = min((i for i in unexplored if i != prev), key=lambda k: sense*dist[prev,k])\n",
    "            tour.append(best)\n",
    "            unexplored.remove(best)\n",
    "            prev = best\n",
    "        if self.logging:\n",
    "            print(\"**** greedy heuristic tour=%f, obj=%f\" % (tourcost(self.dist, tour), tourcost(dist, tour)))\n",
    "        return tour\n",
    "\n",
    "    # Construct a heuristic tour via Karp patching method from subtours\n",
    "    def patch(self, subtours):\n",
    "        if self.logging:\n",
    "            print(\"**** patching %i subtours\" % len(subtours))\n",
    "        tours = list(subtours) # copy object to avoid destroying it\n",
    "        while len(tours) > 1:\n",
    "            # t1,t2 are tours to merge\n",
    "            # k1,k2 are positions to merge in the tours\n",
    "            # d is the direction - forwards or backwards\n",
    "            t2 = tours.pop()\n",
    "            # Find best merge\n",
    "            j1, k1, k2, d, obj = min(((j1,k1,k2,d,\n",
    "                                        self.dist[tours[j1][k1-1],  t2[k2-d]]      +\n",
    "                                        self.dist[tours[j1][k1],    t2[k2-1+d]]    -\n",
    "                                        self.dist[tours[j1][k1-1],  tours[j1][k1]] -\n",
    "                                        self.dist[t2[k2-1],         t2[k2]])\n",
    "                                      for j1 in range(len(tours))\n",
    "                                      for k1 in range(len(tours[j1]))\n",
    "                                      for k2 in range(len(t2))\n",
    "                                      for d in range(2)), # d=0 is forward, d=1 is reverse\n",
    "                                    key=lambda x: x[-1])\n",
    "            t1 = tours[j1]\n",
    "            k1 += 1 # include the position\n",
    "            k2 += 1\n",
    "            if d == 0: # forward\n",
    "                tour = t1[:k1]+t2[k2:]+t2[:k2]+t1[k1:]\n",
    "            else: # reverse\n",
    "                tour = t1[:k1]+list(reversed(t2[:k2]))+list(reversed(t2[k2:]))+t1[k1:]\n",
    "            tours[j1] = tour # replace j1 with new merge\n",
    "        if self.logging:\n",
    "            print(\"**** patched tour=%f\" % tourcost(self.dist, tour))\n",
    "        return tours[0]\n",
    "    \n",
    "    # Improve a tour via swapping\n",
    "    # This is simple - just do 2-opt\n",
    "    def swap(self, tour):\n",
    "        if self.logging:\n",
    "            beforecost = tourcost(self.dist, tour)\n",
    "        \n",
    "        for j1 in range(len(tour)):\n",
    "            for j2 in range(j1+1, len(tour)):\n",
    "                if self.dist[tour[j1-1],tour[j1]]+self.dist[tour[j2-1],tour[j2]] > \\\n",
    "                   self.dist[tour[j1-1],tour[j2-1]]+self.dist[tour[j1],tour[j2]]:\n",
    "                    # swap\n",
    "                    tour = tour[:j1] + list(reversed(tour[j1:j2])) + tour[j2:]\n",
    "                \n",
    "        if self.logging:\n",
    "            print(\"**** swapping: before=%f after=%f\" % (beforecost, tourcost(self.dist, tour)))\n",
    "        return tour"
   ]
  },
  {
   "cell_type": "markdown",
   "id": "233d52a5",
   "metadata": {
    "slideshow": {
     "slide_type": "slide"
    }
   },
   "source": [
    "## Try swap heuristic\n",
    "When a tour has been discovered in the MIP, call the swap heuristic to try and improve it."
   ]
  },
  {
   "cell_type": "markdown",
   "id": "3118df64-5b40-4a3c-a294-979e37bd3318",
   "metadata": {
    "slideshow": {
     "slide_type": "slide"
    }
   },
   "source": [
    "### Callback for swap heuristic\n",
    "Since the base callback injects a tour at a MIP node, this should be called at a MIP node."
   ]
  },
  {
   "cell_type": "code",
   "execution_count": null,
   "id": "23a4ca59-6634-4a45-8a27-8961c24737c9",
   "metadata": {
    "slideshow": {
     "slide_type": "subslide"
    }
   },
   "outputs": [],
   "source": [
    "def swapcb(model, where):\n",
    "    if where == GRB.Callback.MIPNODE:\n",
    "        pt = pytsp(model._n, model._dist)\n",
    "        for k in range(len(model._tours)):\n",
    "            model._tours[k] = pt.swap(model._tours[k])"
   ]
  },
  {
   "cell_type": "markdown",
   "id": "15447025-7dfd-423c-bba7-05efbe604577",
   "metadata": {
    "slideshow": {
     "slide_type": "slide"
    }
   },
   "source": [
    "### Solve the TSP with the swap heuristic\n",
    "By itself, this should be no faster at finding the first solution, but it may reduce the time to optimality."
   ]
  },
  {
   "cell_type": "code",
   "execution_count": null,
   "id": "8c7a074a-0e79-43ff-8372-e632e4ee1618",
   "metadata": {
    "slideshow": {
     "slide_type": "subslide"
    }
   },
   "outputs": [],
   "source": [
    "m = tspmip(n, dist)\n",
    "m.optimize(tspcb(swapcb))\n",
    "checksol(m)\n",
    "addruntimes(runtimes, 'swap', m)"
   ]
  },
  {
   "cell_type": "markdown",
   "id": "0303e5d6",
   "metadata": {
    "slideshow": {
     "slide_type": "slide"
    }
   },
   "source": [
    "## Try greedy heuristic\n",
    "- While solving the MIP, call the greedy heuristic using the _fractional values from the LP relaxation_\n",
    "- The motivation is that these fractional values should guide towards a good solution\n",
    "- When values are all zero (like crossing between subtours), pick the edge with the shortest length."
   ]
  },
  {
   "cell_type": "markdown",
   "id": "c04c0a68-a2e0-4946-9e39-0c74d5a3b275",
   "metadata": {
    "slideshow": {
     "slide_type": "slide"
    }
   },
   "source": [
    "### Callback for greedy heuristic"
   ]
  },
  {
   "cell_type": "code",
   "execution_count": null,
   "id": "0f1b0933-6fd4-44fb-aa32-58beb2f3541e",
   "metadata": {
    "slideshow": {
     "slide_type": "subslide"
    }
   },
   "outputs": [],
   "source": [
    "def greedycb(model, where):\n",
    "    if where == GRB.Callback.MIPNODE:\n",
    "        if model.cbGet(GRB.Callback.MIPNODE_STATUS) == GRB.OPTIMAL:\n",
    "            x = model.cbGetNodeRel(model._vars)\n",
    "            for k in x:\n",
    "                if x[k] < 0.001:\n",
    "                    x[k] = -model._dist[k]\n",
    "            pt = pytsp(model._n, model._dist)\n",
    "            model._tours.append(pt.greedy(dist=x, sense=-1)) # maximize using the x values"
   ]
  },
  {
   "cell_type": "markdown",
   "id": "b0590b17-50e2-4e19-b517-8f9092685954",
   "metadata": {
    "slideshow": {
     "slide_type": "slide"
    }
   },
   "source": [
    "### Solve the TSP with the greedy heuristic"
   ]
  },
  {
   "cell_type": "code",
   "execution_count": null,
   "id": "375833cc-e574-45ed-91f7-a7346ec2ee69",
   "metadata": {
    "slideshow": {
     "slide_type": "subslide"
    },
    "tags": []
   },
   "outputs": [],
   "source": [
    "m = tspmip(n, dist)\n",
    "m.optimize(tspcb(greedycb))\n",
    "checksol(m)\n",
    "addruntimes(runtimes, 'greedy', m)"
   ]
  },
  {
   "cell_type": "markdown",
   "id": "a543ed1b",
   "metadata": {
    "slideshow": {
     "slide_type": "slide"
    }
   },
   "source": [
    "## Try patch heuristic\n",
    "When an integer solution contains subtours, call the patching heuristic to create a tour, and try that as a heuristic solution."
   ]
  },
  {
   "cell_type": "markdown",
   "id": "b4923b7c-0dd4-4b71-b3db-c298252b61f1",
   "metadata": {
    "slideshow": {
     "slide_type": "slide"
    }
   },
   "source": [
    "### Callback for patch heuristic"
   ]
  },
  {
   "cell_type": "code",
   "execution_count": null,
   "id": "b4e5726d-da2f-42a1-8640-c0c93f454d8a",
   "metadata": {
    "slideshow": {
     "slide_type": "subslide"
    }
   },
   "outputs": [],
   "source": [
    "def patchcb(model, where):\n",
    "    if where == GRB.Callback.MIPSOL:\n",
    "        pt = pytsp(model._n, model._dist)\n",
    "        for subtour in model._subtours:\n",
    "            model._tours.append(pt.patch(subtour))"
   ]
  },
  {
   "cell_type": "markdown",
   "id": "728444fb-bf05-4fb9-80a8-12288730754d",
   "metadata": {
    "slideshow": {
     "slide_type": "slide"
    }
   },
   "source": [
    "### Solve the TSP with the patch heuristic"
   ]
  },
  {
   "cell_type": "code",
   "execution_count": null,
   "id": "4e731e27-3777-49b3-ac20-464c576d1b8c",
   "metadata": {
    "slideshow": {
     "slide_type": "subslide"
    },
    "tags": []
   },
   "outputs": [],
   "source": [
    "m = tspmip(n, dist)\n",
    "m.optimize(tspcb(patchcb))\n",
    "checksol(m)\n",
    "addruntimes(runtimes, 'patch', m)"
   ]
  },
  {
   "cell_type": "markdown",
   "id": "9ea79992-f750-4690-9c83-a21800b6ab04",
   "metadata": {
    "slideshow": {
     "slide_type": "slide"
    }
   },
   "source": [
    "## Try fix-and-dive heuristic\n",
    "- When a fractional solution contains some variables at 1, try to fix those and solve the submodel\n",
    "- Although this is similar to a built-in MIP heuristic, this also calls the subtour callback inside."
   ]
  },
  {
   "cell_type": "markdown",
   "id": "b8af4c0d-d92a-4997-b2e2-a065bb8d4097",
   "metadata": {
    "slideshow": {
     "slide_type": "slide"
    }
   },
   "source": [
    "### Callback for fix-and-dive heuristic\n",
    "Note that this is also written as a closure. The reason for this is that we want to specify a heuristic callback function when solving the fixed model!"
   ]
  },
  {
   "cell_type": "code",
   "execution_count": null,
   "id": "84026208-ce8a-4538-9468-d1abb3d866f8",
   "metadata": {
    "slideshow": {
     "slide_type": "subslide"
    }
   },
   "outputs": [],
   "source": [
    "def fixcb(subcb=None):\n",
    "    def inner(model, where):\n",
    "        if where == GRB.Callback.MIPNODE:\n",
    "            if model.cbGet(GRB.Callback.MIPNODE_STATUS) == GRB.OPTIMAL:\n",
    "                # Try solving the fixed submodel\n",
    "                fixed = model._fixed\n",
    "                # Relaxed values near 1.0 get the lower bound set to 1.0\n",
    "                for k,v in model.cbGetNodeRel(model._vars).items():\n",
    "                    fixed._vars[k].LB = math.floor(v+0.01)\n",
    "                # Set a cutoff for the fixed model, based on the current best solution\n",
    "                if model.cbGet(GRB.Callback.MIPNODE_SOLCNT) > 0:\n",
    "                    fixed.Params.Cutoff = model.cbGet(GRB.Callback.MIPNODE_OBJBST)\n",
    "                fixed.optimize(tspcb(subcb)) # call subproblem callback\n",
    "                if fixed.status == GRB.OPTIMAL:\n",
    "                    fixedvals = fixed.getAttr('x', fixed._vars)\n",
    "                    model.cbSetSolution(model._vars, fixedvals)\n",
    "    return inner"
   ]
  },
  {
   "cell_type": "markdown",
   "id": "7c77a8e3-7683-4e15-8542-10818fb6d5e5",
   "metadata": {
    "slideshow": {
     "slide_type": "slide"
    }
   },
   "source": [
    "### Create the fixed model\n",
    "\n",
    "We create two copies of the model and disable output when solving the smaller fixed model."
   ]
  },
  {
   "cell_type": "code",
   "execution_count": null,
   "id": "582baa2e-26cb-420b-8317-9a8dacb7b600",
   "metadata": {
    "slideshow": {
     "slide_type": "subslide"
    }
   },
   "outputs": [],
   "source": [
    "def tspmipwithfixed(n, dist):\n",
    "    m = tspmip(n, dist) # main model\n",
    "    m._fixed = tspmip(n, dist) # fixed model\n",
    "    m._fixed.Params.OutputFlag = 0\n",
    "    m._fixed._parent = m\n",
    "    return m"
   ]
  },
  {
   "cell_type": "markdown",
   "id": "3b81b8d5-0a64-4c4f-8ac9-572ff145f646",
   "metadata": {
    "slideshow": {
     "slide_type": "slide"
    }
   },
   "source": [
    "### Solve the TSP with the fix-and-dive heuristic"
   ]
  },
  {
   "cell_type": "code",
   "execution_count": null,
   "id": "f6da72fc-c517-4fde-8697-32c5e1c81af7",
   "metadata": {
    "slideshow": {
     "slide_type": "subslide"
    },
    "tags": []
   },
   "outputs": [],
   "source": [
    "m = tspmipwithfixed(n, dist)\n",
    "m.optimize(tspcb(fixcb()))\n",
    "checksol(m)"
   ]
  },
  {
   "cell_type": "markdown",
   "id": "e21ff8a9-2402-4798-a809-71b53a909d1e",
   "metadata": {
    "slideshow": {
     "slide_type": "slide"
    }
   },
   "source": [
    "### Tuning the callback for the fixed model\n",
    "\n",
    "- One issue is that the fixed values may be infeasible due to subtours\n",
    "- Let's exploit this by passing subtours found by the fixed model back to the parent model\n",
    "\n",
    "First, create a callback function _for the fixed model_ that appends the subtours to the subtours for parent model:"
   ]
  },
  {
   "cell_type": "code",
   "execution_count": null,
   "id": "5ff0c87e-b517-4ba3-a2b1-81ead1fd19de",
   "metadata": {
    "slideshow": {
     "slide_type": "subslide"
    }
   },
   "outputs": [],
   "source": [
    "def passfixsubtours(model, where):\n",
    "    if where == GRB.Callback.MIPSOL:\n",
    "        model._parent._subtours += model._subtours"
   ]
  },
  {
   "cell_type": "markdown",
   "id": "b2fa60ae-7f23-4e69-baa4-19bac8623c31",
   "metadata": {
    "slideshow": {
     "slide_type": "slide"
    }
   },
   "source": [
    "### Solve the TSP with the enhanced fix-and-dive heuristic\n",
    "The callback function appears complicated!\n",
    "\n",
    "- What it's doing is to call the main callback (`tspcb`) on the MIP with the heuristic fixed callback `fixcb`\n",
    "- The fixed model uses the callback `passfixsubtours`, which sends subtours back to the original MIP."
   ]
  },
  {
   "cell_type": "code",
   "execution_count": null,
   "id": "f4ed01ad-d816-4654-987d-7294c45ffb3f",
   "metadata": {
    "slideshow": {
     "slide_type": "subslide"
    },
    "tags": []
   },
   "outputs": [],
   "source": [
    "m = tspmipwithfixed(n, dist)\n",
    "m.optimize(tspcb(fixcb(passfixsubtours)))\n",
    "checksol(m)"
   ]
  },
  {
   "cell_type": "markdown",
   "id": "2d3af95a",
   "metadata": {
    "slideshow": {
     "slide_type": "slide"
    }
   },
   "source": [
    "## Multiple heuristics\n",
    "Why not combine multiple heuristics together?"
   ]
  },
  {
   "cell_type": "markdown",
   "id": "2f62a2ba-0d61-4db7-a8d9-e91ee10aa3b0",
   "metadata": {
    "slideshow": {
     "slide_type": "slide"
    }
   },
   "source": [
    "### Combination: Greedy + Swap"
   ]
  },
  {
   "cell_type": "code",
   "execution_count": null,
   "id": "e7eecd50-1bf2-46e9-af9f-254d28c4a4d7",
   "metadata": {
    "slideshow": {
     "slide_type": "subslide"
    }
   },
   "outputs": [],
   "source": [
    "def combo(model, where):\n",
    "    greedycb(model, where)\n",
    "    swapcb(model, where)\n",
    "\n",
    "m = tspmip(n, dist)\n",
    "m.optimize(tspcb(combo))\n",
    "checksol(m)\n",
    "addruntimes(runtimes, 'GS', m)"
   ]
  },
  {
   "cell_type": "markdown",
   "id": "d151f4d8-1e20-4efc-9edf-4bd1ef8ee357",
   "metadata": {
    "slideshow": {
     "slide_type": "slide"
    }
   },
   "source": [
    "### Combination: Patch + Swap"
   ]
  },
  {
   "cell_type": "code",
   "execution_count": null,
   "id": "1475f279-4810-4dbe-a467-69e319e41ddb",
   "metadata": {
    "slideshow": {
     "slide_type": "subslide"
    }
   },
   "outputs": [],
   "source": [
    "def combo(model, where):\n",
    "    patchcb(model, where)\n",
    "    swapcb(model, where)\n",
    "\n",
    "m = tspmip(n, dist)\n",
    "m.optimize(tspcb(combo))\n",
    "checksol(m)\n",
    "addruntimes(runtimes, 'PS', m)"
   ]
  },
  {
   "cell_type": "markdown",
   "id": "cd2b926a-a76b-4bca-8d43-4cec66481ed1",
   "metadata": {
    "slideshow": {
     "slide_type": "slide"
    }
   },
   "source": [
    "### Combination: Patch + Greedy + Swap"
   ]
  },
  {
   "cell_type": "code",
   "execution_count": null,
   "id": "f767e6c4-2618-464f-a733-f3d888b747a1",
   "metadata": {
    "slideshow": {
     "slide_type": "subslide"
    }
   },
   "outputs": [],
   "source": [
    "def combo(model, where):\n",
    "    patchcb(model, where)\n",
    "    greedycb(model, where)\n",
    "    swapcb(model, where)\n",
    "\n",
    "m = tspmip(n, dist)\n",
    "m.optimize(tspcb(combo))\n",
    "checksol(m)\n",
    "addruntimes(runtimes, 'PGS', m)"
   ]
  },
  {
   "cell_type": "markdown",
   "id": "92378245-b7b6-4ef1-b484-1efb55ea27b2",
   "metadata": {
    "slideshow": {
     "slide_type": "slide"
    }
   },
   "source": [
    "# Performance\n",
    "Compare performance of the different heuristics"
   ]
  },
  {
   "cell_type": "code",
   "execution_count": null,
   "id": "70eedd67-2e52-4352-96c0-8ccab0c52b3f",
   "metadata": {
    "slideshow": {
     "slide_type": "subslide"
    }
   },
   "outputs": [],
   "source": [
    "from bokeh.transform import dodge\n",
    "\n",
    "fig = figure(x_range=runtimes['methods'], title=\"Runtimes\")\n",
    "fig.vbar(x=dodge('methods', -0.2, range=fig.x_range),\n",
    "         top='firstsol', source=runtimes, width=0.3, color=\"red\",\n",
    "         legend_label=\"First solution\")\n",
    "fig.vbar(x=dodge('methods', 0.2, range=fig.x_range),\n",
    "         top='optimal', source=runtimes, width=0.3, color=\"blue\",\n",
    "         legend_label=\"Optimality\")\n",
    "show(fig)"
   ]
  },
  {
   "cell_type": "markdown",
   "id": "1375e70c-e3f9-4b92-abaf-cfde997741c1",
   "metadata": {
    "slideshow": {
     "slide_type": "slide"
    }
   },
   "source": [
    "# General model\n",
    "- The MIP TSP *does not* require a Euclidean distance function\n",
    "- It does not even require the triangle inequality!\n",
    "\n",
    "Let's try some purely random distances:"
   ]
  },
  {
   "cell_type": "code",
   "execution_count": null,
   "id": "cbe84cd4-ed19-452e-b804-ffa2c159adc9",
   "metadata": {
    "slideshow": {
     "slide_type": "subslide"
    }
   },
   "outputs": [],
   "source": [
    "n = 300\n",
    "\n",
    "random.seed(20)\n",
    "dist = {(i, j): random.uniform(0,100)\n",
    "        for i in range(n) for j in range(i)}\n",
    "\n",
    "m = tspmip(n, dist)\n",
    "\n",
    "m.optimize(tspcb(patchcb))\n",
    "\n",
    "checksol(m, plot=False)"
   ]
  },
  {
   "cell_type": "markdown",
   "id": "3220c05a",
   "metadata": {
    "slideshow": {
     "slide_type": "slide"
    }
   },
   "source": [
    "## Other applications of custom MIP heuristics\n",
    "\n",
    "- Models that are unlikely to benefit\n",
    "  - Knapsack: Already covered by general MIP rounding heuristics\n",
    "- Models with some possibility\n",
    "  - Set covering/packing: Can you do better than general MIP rounding?\n",
    "- Promising models with disjunctive constraints\n",
    "  - Sequencing / disjunctive scheduling\n",
    "  - 2D/3D bin packing\n",
    "  - Open pit mining"
   ]
  },
  {
   "cell_type": "markdown",
   "id": "a6c5169d",
   "metadata": {
    "slideshow": {
     "slide_type": "slide"
    }
   },
   "source": [
    "## Remember the Disclaimers\n",
    "- We use the Traveling Salesman Problem (TSP) **for illustration purposes**\n",
    "  - Why TSP? Because it is a rich model that is easy to understand\n",
    "- This is *not* designed to show the fastest method for the TSP\n",
    "  - Special-purpose TSP codes outperform this model\n",
    "  - If you want to solve a TSP, consider a state-of-the-art system like [Concorde TSP Solver](http://www.math.uwaterloo.ca/tsp/concorde.html)"
   ]
  },
  {
   "cell_type": "markdown",
   "id": "8592d194",
   "metadata": {
    "slideshow": {
     "slide_type": "slide"
    }
   },
   "source": [
    "# How to get this code\n",
    "TODO\n",
    "\n",
    "**NOTE**: The sample data is too large to run using a _free trial license_; please do one of the following:\n",
    "- Academic users: Get a [free academic license](https://www.gurobi.com/academia/academic-program-and-licenses/) (if you qualify)\n",
    "- Commercial prospects: [Contact Gurobi sales](https://www.gurobi.com/company/contact-us/) to get a time-limited evaluation license\n",
    "- Anyone: Reduce the value of n to get a smaller model instance"
   ]
  },
  {
   "cell_type": "markdown",
   "id": "e23d30b7-3d5e-4b6d-b173-5f4a77ca4ab5",
   "metadata": {
    "slideshow": {
     "slide_type": "slide"
    }
   },
   "source": [
    "# Questions/Discussion"
   ]
  },
  {
   "cell_type": "code",
   "execution_count": null,
   "id": "0099f017",
   "metadata": {
    "slideshow": {
     "slide_type": "skip"
    }
   },
   "outputs": [],
   "source": []
  }
 ],
 "metadata": {
  "jupytext": {
   "encoding": "# -*- coding: utf-8 -*-",
   "formats": "ipynb,py:percent,md"
  },
  "kernelspec": {
   "display_name": "Python 3 (ipykernel)",
   "language": "python",
   "name": "python3"
  },
  "language_info": {
   "codemirror_mode": {
    "name": "ipython",
    "version": 3
   },
   "file_extension": ".py",
   "mimetype": "text/x-python",
   "name": "python",
   "nbconvert_exporter": "python",
   "pygments_lexer": "ipython3",
   "version": "3.8.2"
  },
  "rise": {
   "center": false,
   "height": "90%",
   "scroll": true
  }
 },
 "nbformat": 4,
 "nbformat_minor": 5
}
